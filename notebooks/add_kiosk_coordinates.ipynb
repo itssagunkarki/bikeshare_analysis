{
 "cells": [
  {
   "cell_type": "markdown",
   "metadata": {},
   "source": [
    "- Add coordinates of the Checkout and return kiosk\n",
    "     - Get coordinates from heartland_bikeshare\n",
    "     - add columns for coordinates of the Checkout and return kiosk \n",
    "\n",
    "   **Important** Some of the kiosk coordinates are not present, check the set difference between the kiosk names in the heartland_bikeshare and the kiosk names in the kiosk dataset."
   ]
  },
  {
   "cell_type": "code",
   "execution_count": 13,
   "metadata": {},
   "outputs": [
    {
     "data": {
      "text/plain": [
       "True"
      ]
     },
     "execution_count": 13,
     "metadata": {},
     "output_type": "execute_result"
    }
   ],
   "source": [
    "import os\n",
    "import dotenv\n",
    "import pandas as pd\n",
    "import numpy as np\n",
    "\n",
    "dotenv.load_dotenv()"
   ]
  },
  {
   "cell_type": "code",
   "execution_count": 14,
   "metadata": {},
   "outputs": [],
   "source": [
    "df_bike_trips = pd.read_parquet(os.path.join(os.environ['OUTPUT_PATH'], 'Cleaned_Bike_Trips.parquet'))\n",
    "\n",
    "df_heartland_bike_share = pd.read_csv(os.path.join(os.environ['MOHAMMAD_SHARED_PATH'], \"Backup\",\"Heartland Bike Share - Kiosks.csv\"), encoding='latin1')"
   ]
  },
  {
   "cell_type": "code",
   "execution_count": 15,
   "metadata": {},
   "outputs": [
    {
     "data": {
      "text/html": [
       "<div>\n",
       "<style scoped>\n",
       "    .dataframe tbody tr th:only-of-type {\n",
       "        vertical-align: middle;\n",
       "    }\n",
       "\n",
       "    .dataframe tbody tr th {\n",
       "        vertical-align: top;\n",
       "    }\n",
       "\n",
       "    .dataframe thead th {\n",
       "        text-align: right;\n",
       "    }\n",
       "</style>\n",
       "<table border=\"1\" class=\"dataframe\">\n",
       "  <thead>\n",
       "    <tr style=\"text-align: right;\">\n",
       "      <th></th>\n",
       "      <th>Kiosk Name</th>\n",
       "      <th>Address</th>\n",
       "      <th>Latitude</th>\n",
       "      <th>Longitude</th>\n",
       "      <th>Coordinates</th>\n",
       "    </tr>\n",
       "  </thead>\n",
       "  <tbody>\n",
       "    <tr>\n",
       "      <th>93</th>\n",
       "      <td>Heartland Helpdesk</td>\n",
       "      <td>1144 N 11th St</td>\n",
       "      <td>39.97233</td>\n",
       "      <td>-75.14500</td>\n",
       "      <td>39.97233,-75.145</td>\n",
       "    </tr>\n",
       "    <tr>\n",
       "      <th>99</th>\n",
       "      <td>Mahoney State Park</td>\n",
       "      <td>Mahoney State Park</td>\n",
       "      <td>41.03038</td>\n",
       "      <td>-96.31184</td>\n",
       "      <td>41.03038,-96.31184</td>\n",
       "    </tr>\n",
       "    <tr>\n",
       "      <th>120</th>\n",
       "      <td>Walnut Creek Recreation Area (Papillion)</td>\n",
       "      <td>11601 S 96th St</td>\n",
       "      <td>41.13997</td>\n",
       "      <td>-96.06433</td>\n",
       "      <td>41.13997,-96.06433</td>\n",
       "    </tr>\n",
       "    <tr>\n",
       "      <th>46</th>\n",
       "      <td>36th &amp; Raynor Parkway (Bellevue)</td>\n",
       "      <td>W Papio Trail</td>\n",
       "      <td>41.14896</td>\n",
       "      <td>-95.96814</td>\n",
       "      <td>41.14896,-95.96814</td>\n",
       "    </tr>\n",
       "    <tr>\n",
       "      <th>110</th>\n",
       "      <td>Prairie Queen Recreation Area (Papillion)</td>\n",
       "      <td>Lincoln Rd</td>\n",
       "      <td>41.15487</td>\n",
       "      <td>-96.11240</td>\n",
       "      <td>41.15487,-96.1124</td>\n",
       "    </tr>\n",
       "    <tr>\n",
       "      <th>...</th>\n",
       "      <td>...</td>\n",
       "      <td>...</td>\n",
       "      <td>...</td>\n",
       "      <td>...</td>\n",
       "      <td>...</td>\n",
       "    </tr>\n",
       "    <tr>\n",
       "      <th>37</th>\n",
       "      <td>24th &amp; Wirt St</td>\n",
       "      <td>3014 N 24th Street</td>\n",
       "      <td>41.28661</td>\n",
       "      <td>-95.94713</td>\n",
       "      <td>41.28661,-95.94713</td>\n",
       "    </tr>\n",
       "    <tr>\n",
       "      <th>104</th>\n",
       "      <td>NOTC 31st Ave &amp; Taylor</td>\n",
       "      <td>4308 N 31st Ave</td>\n",
       "      <td>41.29800</td>\n",
       "      <td>-95.95830</td>\n",
       "      <td>41.298,-95.9583</td>\n",
       "    </tr>\n",
       "    <tr>\n",
       "      <th>100</th>\n",
       "      <td>MCC Fort Bookstore N 32nd St</td>\n",
       "      <td>N 32nd St</td>\n",
       "      <td>41.30424</td>\n",
       "      <td>-95.95923</td>\n",
       "      <td>41.30424,-95.95923</td>\n",
       "    </tr>\n",
       "    <tr>\n",
       "      <th>101</th>\n",
       "      <td>MCC North 30th St</td>\n",
       "      <td>N 30th St</td>\n",
       "      <td>41.30981</td>\n",
       "      <td>-95.95684</td>\n",
       "      <td>41.30981,-95.95684</td>\n",
       "    </tr>\n",
       "    <tr>\n",
       "      <th>103</th>\n",
       "      <td>Miller Park</td>\n",
       "      <td>30th &amp; Curtis Ave</td>\n",
       "      <td>41.31615</td>\n",
       "      <td>-95.95626</td>\n",
       "      <td>41.31615,-95.95626</td>\n",
       "    </tr>\n",
       "  </tbody>\n",
       "</table>\n",
       "<p>118 rows × 5 columns</p>\n",
       "</div>"
      ],
      "text/plain": [
       "                                    Kiosk Name             Address  Latitude  \\\n",
       "93                          Heartland Helpdesk      1144 N 11th St  39.97233   \n",
       "99                          Mahoney State Park  Mahoney State Park  41.03038   \n",
       "120   Walnut Creek Recreation Area (Papillion)     11601 S 96th St  41.13997   \n",
       "46            36th & Raynor Parkway (Bellevue)       W Papio Trail  41.14896   \n",
       "110  Prairie Queen Recreation Area (Papillion)          Lincoln Rd  41.15487   \n",
       "..                                         ...                 ...       ...   \n",
       "37                              24th & Wirt St  3014 N 24th Street  41.28661   \n",
       "104                     NOTC 31st Ave & Taylor     4308 N 31st Ave  41.29800   \n",
       "100               MCC Fort Bookstore N 32nd St           N 32nd St  41.30424   \n",
       "101                          MCC North 30th St           N 30th St  41.30981   \n",
       "103                                Miller Park   30th & Curtis Ave  41.31615   \n",
       "\n",
       "     Longitude         Coordinates  \n",
       "93   -75.14500    39.97233,-75.145  \n",
       "99   -96.31184  41.03038,-96.31184  \n",
       "120  -96.06433  41.13997,-96.06433  \n",
       "46   -95.96814  41.14896,-95.96814  \n",
       "110  -96.11240   41.15487,-96.1124  \n",
       "..         ...                 ...  \n",
       "37   -95.94713  41.28661,-95.94713  \n",
       "104  -95.95830     41.298,-95.9583  \n",
       "100  -95.95923  41.30424,-95.95923  \n",
       "101  -95.95684  41.30981,-95.95684  \n",
       "103  -95.95626  41.31615,-95.95626  \n",
       "\n",
       "[118 rows x 5 columns]"
      ]
     },
     "execution_count": 15,
     "metadata": {},
     "output_type": "execute_result"
    }
   ],
   "source": [
    "df_heartland_bike_share = df_heartland_bike_share[['Kiosk Name', 'Address', 'Latitude', 'Longitude']]\n",
    "\n",
    "# remove NA\n",
    "df_heartland_bike_share = df_heartland_bike_share[df_heartland_bike_share['Latitude'].notna() & df_heartland_bike_share['Longitude'].notna()]\n",
    "# remove lattitude and longitude that are 0\n",
    "df_heartland_bike_share = df_heartland_bike_share[df_heartland_bike_share['Latitude'] != 0]\n",
    "df_heartland_bike_share = df_heartland_bike_share[df_heartland_bike_share['Longitude'] != 0]\n",
    "\n",
    "df_heartland_bike_share.sort_values(by=['Latitude', 'Longitude'], inplace=True)\n",
    "df_heartland_bike_share['Coordinates'] = df_heartland_bike_share['Latitude'].astype(str) + ',' + df_heartland_bike_share['Longitude'].astype(str)\n",
    "df_heartland_bike_share"
   ]
  },
  {
   "cell_type": "markdown",
   "metadata": {},
   "source": [
    "#### Check if all the kiosk in bikeshare data have a valid coordinate in the heartland kiosks data\n",
    "\n",
    "Since the set difference is not empty, we need to find if they are real kiosk or not and assign them their coordinates\n",
    "    \n",
    "- df_bike_trips - df_heartland_bike_share will give us the kiosk that are not in the heartland kiosk data"
   ]
  },
  {
   "cell_type": "code",
   "execution_count": 16,
   "metadata": {},
   "outputs": [
    {
     "data": {
      "text/plain": [
       "{'Bike Share HQ (Shop)',\n",
       " 'Demo Station: 13th & Fahey',\n",
       " 'Omaha’s Henry Doorly Zoo & Aquarium'}"
      ]
     },
     "execution_count": 16,
     "metadata": {},
     "output_type": "execute_result"
    }
   ],
   "source": [
    "# we dont have the coordinates for these checkout kiosks\n",
    "set(df_bike_trips['Checkout Kiosk'].unique()) - set(df_heartland_bike_share['Kiosk Name'].unique())"
   ]
  },
  {
   "cell_type": "code",
   "execution_count": 17,
   "metadata": {},
   "outputs": [
    {
     "data": {
      "text/plain": [
       "{'(BTS) SLC Help Desk',\n",
       " 'BCycle Hub',\n",
       " 'BTS Customer Service Help Desk',\n",
       " 'BTS Customer Service Help Desk (Virtual Kiosk)',\n",
       " 'BTS Customer Service Helpdesk',\n",
       " 'BTS Help Desk',\n",
       " 'Bike Share HQ (Shop)',\n",
       " 'Demo Station: 13th & Fahey',\n",
       " 'Help Desk',\n",
       " 'Helpdesk',\n",
       " 'Houston BCycle Warehouse',\n",
       " 'Omaha’s Henry Doorly Zoo & Aquarium',\n",
       " 'RTC Helpdesk',\n",
       " \"Ullman's\",\n",
       " 'Warehouse- Metro',\n",
       " 'Z - BTS Customer Service Helpdesk',\n",
       " 'Z - Help Desk (BTS Staff)',\n",
       " 'Z - Virtual Kiosk (BTS STAFF) DO NOT USE JT'}"
      ]
     },
     "execution_count": 17,
     "metadata": {},
     "output_type": "execute_result"
    }
   ],
   "source": [
    "#we dont have the coordinates for these return kiosks\n",
    "set(df_bike_trips['Return Kiosk'].unique()) - set(df_heartland_bike_share['Kiosk Name'].unique())"
   ]
  },
  {
   "cell_type": "markdown",
   "metadata": {},
   "source": [
    "##### Instead of doing join and removing unneccessary columns, we will just add the coordinates to the bikeshare data by mapping the kiosk id to the coordinates"
   ]
  },
  {
   "cell_type": "code",
   "execution_count": 18,
   "metadata": {},
   "outputs": [],
   "source": [
    "# make a dict of kioks and their coordinates\n",
    "kiosk_coordinates = df_heartland_bike_share.set_index('Kiosk Name')['Coordinates'].to_dict()"
   ]
  },
  {
   "cell_type": "code",
   "execution_count": 19,
   "metadata": {},
   "outputs": [],
   "source": [
    "df_bike_trips['Checkout_Kiosk_Coordinates'] = df_bike_trips['Checkout Kiosk'].copy().map(kiosk_coordinates)\n",
    "df_bike_trips['Return_Kiosk_Coordinates'] = df_bike_trips['Return Kiosk'].copy().map(kiosk_coordinates)\n",
    "df_bike_trips.sort_values(by=['Checkout_Kiosk_Coordinates', 'Return_Kiosk_Coordinates'], inplace=True)"
   ]
  },
  {
   "cell_type": "code",
   "execution_count": 20,
   "metadata": {},
   "outputs": [],
   "source": [
    "# @ TODO Fix this, there should not be NA in coordinates\n",
    "\n",
    "# remove the kioks that dont have coordinates\n",
    "df_bike_trips = df_bike_trips[df_bike_trips['Checkout_Kiosk_Coordinates'].notna() & df_bike_trips['Return_Kiosk_Coordinates'].notna()]\n"
   ]
  },
  {
   "cell_type": "code",
   "execution_count": 21,
   "metadata": {},
   "outputs": [],
   "source": [
    "df_bike_trips.to_parquet(os.path.join(os.environ['OUTPUT_PATH'], 'Bike_Trips_With_Coordinates.parquet'))"
   ]
  },
  {
   "cell_type": "code",
   "execution_count": null,
   "metadata": {},
   "outputs": [],
   "source": []
  }
 ],
 "metadata": {
  "kernelspec": {
   "display_name": ".venv",
   "language": "python",
   "name": "python3"
  },
  "language_info": {
   "codemirror_mode": {
    "name": "ipython",
    "version": 3
   },
   "file_extension": ".py",
   "mimetype": "text/x-python",
   "name": "python",
   "nbconvert_exporter": "python",
   "pygments_lexer": "ipython3",
   "version": "3.9.6"
  }
 },
 "nbformat": 4,
 "nbformat_minor": 2
}
