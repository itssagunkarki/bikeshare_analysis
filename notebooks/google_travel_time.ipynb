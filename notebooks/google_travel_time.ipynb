{
 "cells": [
  {
   "cell_type": "code",
   "execution_count": 136,
   "metadata": {},
   "outputs": [
    {
     "data": {
      "text/plain": [
       "True"
      ]
     },
     "execution_count": 136,
     "metadata": {},
     "output_type": "execute_result"
    }
   ],
   "source": [
    "import googlemaps\n",
    "import os\n",
    "import dotenv\n",
    "from datetime import datetime\n",
    "import pandas as pd\n",
    "import numpy as np\n",
    "\n",
    "dotenv.load_dotenv()"
   ]
  },
  {
   "cell_type": "markdown",
   "metadata": {},
   "source": [
    "#### Some Initial setup details\n",
    "\n",
    "- [As of Feb 22, 2024], Be in aware that it costs \\$ $\\frac{5}{1000}$ per request. \n",
    "  - example, 118 origin x 118 destination = 13924 requests = 69.62 USD"
   ]
  },
  {
   "cell_type": "code",
   "execution_count": 142,
   "metadata": {},
   "outputs": [],
   "source": [
    "def get_variable_name(curr_hour: datetime, mode: str) -> str:\n",
    "\n",
    "    hour = f\"{curr_hour.hour:02d}\"\n",
    "    minute = f\"{curr_hour.minute:02d}\"\n",
    "\n",
    "    column_name_for_time_at_this_time = f\"T{hour}{minute}_{mode}_(In Minutes)\"\n",
    "    output_file_name = f\"T{hour}{minute}_{mode}.parquet\"\n",
    "\n",
    "    return column_name_for_time_at_this_time, output_file_name\n",
    "\n",
    "\n",
    "def print_report(curr_hour: datetime, mode: str, output_file_name: str, col_name: str) -> None:\n",
    "    print(\"Current Run of the Program with the following parameters:\")\n",
    "    print(f\"Current Hour: {curr_hour}\")\n",
    "    print(f\"Mode: {mode}\")\n",
    "    print(f\"Column Name: {col_name}\")\n",
    "    print(f\"Output File Name: {output_file_name}\")"
   ]
  },
  {
   "cell_type": "markdown",
   "metadata": {},
   "source": [
    "## Program Setup"
   ]
  },
  {
   "cell_type": "code",
   "execution_count": 141,
   "metadata": {},
   "outputs": [
    {
     "name": "stdout",
     "output_type": "stream",
     "text": [
      "Current Run of the Program with the following parameters:\n",
      "Current Hour: 2024-02-26 07:30:00\n",
      "Mode: trasit\n",
      "Column Name: T0730_trasit_(In Minutes)\n",
      "Output File Name: T0730_trasit.parquet\n"
     ]
    }
   ],
   "source": [
    "hours = [\n",
    "    datetime(2024, 2, 26, 7, 30, 0),\n",
    "    datetime(2024, 2, 26, 12, 00, 0),\n",
    "    datetime(2024, 2, 26, 16, 00, 0),\n",
    "    datetime(2024, 2, 26, 20, 15, 0)\n",
    "]\n",
    "\n",
    "\n",
    "time_compute = hours[0]\n",
    "mode = \"trasit\"\n",
    "# mode = \"bicycling\"\n",
    "\n",
    "\n",
    "\n",
    "\n",
    "run = False # Prevent accidental runs\n",
    "\n",
    "# Test random sample of data from the resulting matrix if they are correct\n",
    "test = False # Prevent accidental runs\n",
    "num_sample_size = 20 #tests random rows of data if the distance and time are correct\n",
    "\n",
    "api_key = os.getenv(\"GOOGLE_MAPS_API_KEY_2\")\n",
    "\n",
    "col_name, output_file_name = get_variable_name(time_compute, mode)\n",
    "\n",
    "print_report(time_compute, mode, output_file_name, col_name)"
   ]
  },
  {
   "cell_type": "code",
   "execution_count": 105,
   "metadata": {},
   "outputs": [],
   "source": [
    "# initialize the google maps client\n",
    "gmaps = googlemaps.Client(key=api_key)"
   ]
  },
  {
   "cell_type": "markdown",
   "metadata": {},
   "source": [
    "#### Get Kiosk Data"
   ]
  },
  {
   "cell_type": "code",
   "execution_count": 106,
   "metadata": {},
   "outputs": [],
   "source": [
    "kiosk_data = pd.read_csv(os.path.join(os.environ['MOHAMMAD_SHARED_PATH'], \"Google Trip Data\",\"Kiosks_Data.csv\"))"
   ]
  },
  {
   "cell_type": "code",
   "execution_count": 131,
   "metadata": {},
   "outputs": [],
   "source": [
    "kiosk_data_filterd = kiosk_data[['Kiosk Name', \"Latitude\", \"Longitude\", 'Address']].copy()\n",
    "kiosk_data_filterd['Coordinates'] = kiosk_data_filterd['Latitude'].astype(str) + ',' + kiosk_data_filterd['Longitude'].astype(str)\n",
    "\n",
    "# remove rows with coordinates 0.0,0.0\n",
    "kiosk_data_filterd = kiosk_data_filterd[kiosk_data_filterd['Coordinates']!=\"0.0,0.0\"]\n",
    "\n",
    "# remove this coordinate 39.97233,-75.145 = 1330 N 5th St #2, Philadelphia, PA 19122, USA\n",
    "kiosk_data_filterd = kiosk_data_filterd[kiosk_data_filterd['Coordinates']!=\"39.97233,-75.145\"]\n",
    "\n",
    "# remove duplicate rows\n",
    "kiosk_data_filterd = kiosk_data_filterd.drop_duplicates().reset_index(drop=True)\n",
    "kiosk_data_filterd.sort_values(by='Coordinates', inplace=True)"
   ]
  },
  {
   "cell_type": "code",
   "execution_count": 130,
   "metadata": {},
   "outputs": [
    {
     "data": {
      "text/html": [
       "<div>\n",
       "<style scoped>\n",
       "    .dataframe tbody tr th:only-of-type {\n",
       "        vertical-align: middle;\n",
       "    }\n",
       "\n",
       "    .dataframe tbody tr th {\n",
       "        vertical-align: top;\n",
       "    }\n",
       "\n",
       "    .dataframe thead th {\n",
       "        text-align: right;\n",
       "    }\n",
       "</style>\n",
       "<table border=\"1\" class=\"dataframe\">\n",
       "  <thead>\n",
       "    <tr style=\"text-align: right;\">\n",
       "      <th></th>\n",
       "      <th>Kiosk Name</th>\n",
       "      <th>Latitude</th>\n",
       "      <th>Longitude</th>\n",
       "      <th>Address</th>\n",
       "      <th>Coordinates</th>\n",
       "    </tr>\n",
       "  </thead>\n",
       "  <tbody>\n",
       "    <tr>\n",
       "      <th>0</th>\n",
       "      <td>Mahoney State Park</td>\n",
       "      <td>41.03038</td>\n",
       "      <td>-96.31184</td>\n",
       "      <td>Mahoney State Park</td>\n",
       "      <td>41.03038,-96.31184</td>\n",
       "    </tr>\n",
       "    <tr>\n",
       "      <th>1</th>\n",
       "      <td>Walnut Creek Recreation Area (Papillion)</td>\n",
       "      <td>41.13997</td>\n",
       "      <td>-96.06433</td>\n",
       "      <td>11601 S 96th St</td>\n",
       "      <td>41.13997,-96.06433</td>\n",
       "    </tr>\n",
       "    <tr>\n",
       "      <th>2</th>\n",
       "      <td>36th &amp; Raynor Parkway (Bellevue)</td>\n",
       "      <td>41.14896</td>\n",
       "      <td>-95.96814</td>\n",
       "      <td>W Papio Trail</td>\n",
       "      <td>41.14896,-95.96814</td>\n",
       "    </tr>\n",
       "    <tr>\n",
       "      <th>3</th>\n",
       "      <td>Prairie Queen Recreation Area (Papillion)</td>\n",
       "      <td>41.15487</td>\n",
       "      <td>-96.11240</td>\n",
       "      <td>Lincoln Rd</td>\n",
       "      <td>41.15487,-96.1124</td>\n",
       "    </tr>\n",
       "    <tr>\n",
       "      <th>4</th>\n",
       "      <td>Papillion Landing</td>\n",
       "      <td>41.15593</td>\n",
       "      <td>-96.05576</td>\n",
       "      <td>1046 W Lincoln St</td>\n",
       "      <td>41.15593,-96.05576</td>\n",
       "    </tr>\n",
       "    <tr>\n",
       "      <th>...</th>\n",
       "      <td>...</td>\n",
       "      <td>...</td>\n",
       "      <td>...</td>\n",
       "      <td>...</td>\n",
       "      <td>...</td>\n",
       "    </tr>\n",
       "    <tr>\n",
       "      <th>111</th>\n",
       "      <td>24th &amp; Wirt St</td>\n",
       "      <td>41.28661</td>\n",
       "      <td>-95.94713</td>\n",
       "      <td>3014 N 24th Street</td>\n",
       "      <td>41.28661,-95.94713</td>\n",
       "    </tr>\n",
       "    <tr>\n",
       "      <th>112</th>\n",
       "      <td>NOTC 31st Ave &amp; Taylor</td>\n",
       "      <td>41.29800</td>\n",
       "      <td>-95.95830</td>\n",
       "      <td>4308 N 31st Ave</td>\n",
       "      <td>41.298,-95.9583</td>\n",
       "    </tr>\n",
       "    <tr>\n",
       "      <th>113</th>\n",
       "      <td>MCC Fort Bookstore N 32nd St</td>\n",
       "      <td>41.30424</td>\n",
       "      <td>-95.95923</td>\n",
       "      <td>N 32nd St</td>\n",
       "      <td>41.30424,-95.95923</td>\n",
       "    </tr>\n",
       "    <tr>\n",
       "      <th>114</th>\n",
       "      <td>MCC North 30th St</td>\n",
       "      <td>41.30981</td>\n",
       "      <td>-95.95684</td>\n",
       "      <td>N 30th St</td>\n",
       "      <td>41.30981,-95.95684</td>\n",
       "    </tr>\n",
       "    <tr>\n",
       "      <th>115</th>\n",
       "      <td>Miller Park</td>\n",
       "      <td>41.31615</td>\n",
       "      <td>-95.95626</td>\n",
       "      <td>30th &amp; Curtis Ave</td>\n",
       "      <td>41.31615,-95.95626</td>\n",
       "    </tr>\n",
       "  </tbody>\n",
       "</table>\n",
       "<p>116 rows × 5 columns</p>\n",
       "</div>"
      ],
      "text/plain": [
       "                                    Kiosk Name  Latitude  Longitude  \\\n",
       "0                           Mahoney State Park  41.03038  -96.31184   \n",
       "1     Walnut Creek Recreation Area (Papillion)  41.13997  -96.06433   \n",
       "2             36th & Raynor Parkway (Bellevue)  41.14896  -95.96814   \n",
       "3    Prairie Queen Recreation Area (Papillion)  41.15487  -96.11240   \n",
       "4                            Papillion Landing  41.15593  -96.05576   \n",
       "..                                         ...       ...        ...   \n",
       "111                             24th & Wirt St  41.28661  -95.94713   \n",
       "112                     NOTC 31st Ave & Taylor  41.29800  -95.95830   \n",
       "113               MCC Fort Bookstore N 32nd St  41.30424  -95.95923   \n",
       "114                          MCC North 30th St  41.30981  -95.95684   \n",
       "115                                Miller Park  41.31615  -95.95626   \n",
       "\n",
       "                Address         Coordinates  \n",
       "0    Mahoney State Park  41.03038,-96.31184  \n",
       "1       11601 S 96th St  41.13997,-96.06433  \n",
       "2         W Papio Trail  41.14896,-95.96814  \n",
       "3            Lincoln Rd   41.15487,-96.1124  \n",
       "4     1046 W Lincoln St  41.15593,-96.05576  \n",
       "..                  ...                 ...  \n",
       "111  3014 N 24th Street  41.28661,-95.94713  \n",
       "112     4308 N 31st Ave     41.298,-95.9583  \n",
       "113           N 32nd St  41.30424,-95.95923  \n",
       "114           N 30th St  41.30981,-95.95684  \n",
       "115   30th & Curtis Ave  41.31615,-95.95626  \n",
       "\n",
       "[116 rows x 5 columns]"
      ]
     },
     "execution_count": 130,
     "metadata": {},
     "output_type": "execute_result"
    }
   ],
   "source": [
    "kiosk_data_filterd"
   ]
  },
  {
   "cell_type": "code",
   "execution_count": 132,
   "metadata": {},
   "outputs": [
    {
     "data": {
      "text/plain": [
       "116"
      ]
     },
     "execution_count": 132,
     "metadata": {},
     "output_type": "execute_result"
    }
   ],
   "source": [
    "coordinates = kiosk_data_filterd['Coordinates'].values  \n",
    "\n",
    "len(coordinates)"
   ]
  },
  {
   "cell_type": "markdown",
   "metadata": {},
   "source": [
    "result is in shape of \n",
    "\n",
    "origin x destination"
   ]
  },
  {
   "cell_type": "code",
   "execution_count": 110,
   "metadata": {},
   "outputs": [],
   "source": [
    "res_dict = {}\n",
    "\n",
    "count = 0\n",
    "if run:\n",
    "    for i in range(0, len(coordinates)-1, 10):\n",
    "        for j in range(0, len(coordinates)-1, 10):\n",
    "            org_start = i\n",
    "            org_end = min(i+10, len(coordinates)) ### its logical to subtract 1 from len here but, when slicing, the right is exclusive\n",
    "            dest_start = j\n",
    "            dest_end = min(j+10, len(coordinates))\n",
    "\n",
    "            if (org_end -org_start == 0) or (dest_end - dest_start == 0):\n",
    "                print(\"No more data to compute. Exiting... this loop\")\n",
    "            else:\n",
    "                origins = coordinates[org_start:org_end]\n",
    "                destinations = coordinates[dest_start:dest_end]\n",
    "\n",
    "\n",
    "\n",
    "                res = gmaps.distance_matrix(origins, destinations, mode=mode, departure_time=time_compute)\n",
    "\n",
    "                \n",
    "                ### result is in shape of org x dest\n",
    "                ### Result is in res['rows'][org]['elements'][dest]\n",
    "                for org in range(len(origins)):\n",
    "\n",
    "                    for dest in range(len(destinations)):\n",
    "\n",
    "                        if res['rows'][org]['elements'][dest]['status'] == 'OK':\n",
    "                            res_dict[count] = {\n",
    "                                \"Destination_Coordinates\": destinations[dest],\n",
    "                                \"Origin_Coordinates\": origins[org],\n",
    "                                \"Origin_Address\": res['origin_addresses'][org],\n",
    "                                \"Destination_Address\": res['destination_addresses'][dest],\n",
    "                                \"Duration (In Seconds)\": res['rows'][org]['elements'][dest]['duration']['value'],\n",
    "                                \"Distance (In Meters)\": res['rows'][org]['elements'][dest]['distance']['value']\n",
    "                            }\n",
    "                        else:\n",
    "                            res_dict[count] = {\n",
    "                                \"Destination_Coordinates\": destinations[dest],\n",
    "                                \"Origin_Coordinates\": origins[org],\n",
    "                                \"Origin_Address\": res['origin_addresses'][org],\n",
    "                                \"Destination_Address\": res['destination_addresses'][dest],\n",
    "                                \"Duration (In Seconds)\": np.nan,\n",
    "                                \"Distance (In Meters)\": np.nan\n",
    "                            }\n",
    "                        count += 1         "
   ]
  },
  {
   "cell_type": "code",
   "execution_count": 137,
   "metadata": {},
   "outputs": [],
   "source": [
    "if run:\n",
    "    # Convert resulting dictionary to a dataframe\n",
    "    df_res = pd.DataFrame(res_dict).T\n",
    "\n",
    "    # convert the duration to minutes\n",
    "    df_res[col_name] = df_res[f'Duration (In Seconds)']/60\n",
    "\n",
    "    df_res.to_parquet(os.path.join(os.environ['OUTPUT_PATH'], \"google_hourly_data\", output_file_name))\n",
    "\n",
    "    df_res.head()"
   ]
  },
  {
   "cell_type": "markdown",
   "metadata": {},
   "source": [
    "##### Get random rows and test it individually, if the data is correct or not"
   ]
  },
  {
   "cell_type": "code",
   "execution_count": null,
   "metadata": {},
   "outputs": [],
   "source": [
    "num_passed = 0\n",
    "\n",
    "if test:\n",
    "    if run:\n",
    "        df_test = df_res.sample(num_sample_size).reset_index(drop=True)\n",
    "\n",
    "        test_dict = df_test.to_dict(orient='records')\n",
    "        for i in test_dict:\n",
    "            res = gmaps.distance_matrix([i['Origin_Coordinates']], [i['Destination_Coordinates']], mode=mode, departure_time=time_compute)\n",
    "\n",
    "            if res['rows'][0]['elements'][0]['duration']['value'] == i['Duration (In Seconds)'] and res['rows'][0]['elements'][0]['distance']['value'] == i['Distance (In Meters)']:\n",
    "                num_passed += 1\n",
    "\n",
    "        print(f\"Number of tests passed: {num_passed}/{num_sample_size}\")\n",
    "    else:\n",
    "        print(\"No tests were run. Since no data was computed.\")\n"
   ]
  },
  {
   "cell_type": "code",
   "execution_count": null,
   "metadata": {},
   "outputs": [],
   "source": []
  }
 ],
 "metadata": {
  "kernelspec": {
   "display_name": ".venv",
   "language": "python",
   "name": "python3"
  },
  "language_info": {
   "codemirror_mode": {
    "name": "ipython",
    "version": 3
   },
   "file_extension": ".py",
   "mimetype": "text/x-python",
   "name": "python",
   "nbconvert_exporter": "python",
   "pygments_lexer": "ipython3",
   "version": "3.9.6"
  }
 },
 "nbformat": 4,
 "nbformat_minor": 2
}
