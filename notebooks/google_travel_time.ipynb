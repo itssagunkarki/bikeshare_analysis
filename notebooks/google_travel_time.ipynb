{
 "cells": [
  {
   "cell_type": "code",
   "execution_count": 59,
   "metadata": {},
   "outputs": [
    {
     "data": {
      "text/plain": [
       "True"
      ]
     },
     "execution_count": 59,
     "metadata": {},
     "output_type": "execute_result"
    }
   ],
   "source": [
    "import googlemaps\n",
    "import os\n",
    "import dotenv\n",
    "from datetime import datetime\n",
    "import pandas as pd\n",
    "import numpy as np\n",
    "import time\n",
    "\n",
    "dotenv.load_dotenv()"
   ]
  },
  {
   "cell_type": "markdown",
   "metadata": {},
   "source": [
    "#### Some Initial setup details\n",
    "\n",
    "- [As of Feb 22, 2024], Be in aware that it costs \\$ $\\frac{5}{1000}$ per request. \n",
    "  - example, 118 origin x 118 destination = 13924 requests = 69.62 USD"
   ]
  },
  {
   "cell_type": "code",
   "execution_count": 216,
   "metadata": {},
   "outputs": [
    {
     "name": "stdout",
     "output_type": "stream",
     "text": [
      "column_name == T730_bicycling_(In Minutes), output_file_name == T730_bicycling.parquet\n"
     ]
    }
   ],
   "source": [
    "run = False # Prevent accidental runs\n",
    "api_key = os.getenv(\"GOOGLE_API_KEY\")\n",
    "\n",
    "mode = 'bicycling' # or \"transit\"\n",
    "time_compute = datetime(2024, 2, 23, 7, 30, 0) # the time of day to compute the travel time\n",
    "\n",
    "column_name_for_time_at_this_time = f\"T{time_compute.hour}{time_compute.minute}_{mode}_(In Minutes)\"\n",
    "output_file_name = f\"T{time_compute.hour}{time_compute.minute}_{mode}.parquet\"\n",
    "\n",
    "print(f\"column_name == {column_name_for_time_at_this_time}, output_file_name == {output_file_name}\")"
   ]
  },
  {
   "cell_type": "code",
   "execution_count": 3,
   "metadata": {},
   "outputs": [],
   "source": [
    "# initialize the google maps client\n",
    "gmaps = googlemaps.Client(key=api_key)"
   ]
  },
  {
   "cell_type": "markdown",
   "metadata": {},
   "source": [
    "#### Get Kiosk Data"
   ]
  },
  {
   "cell_type": "code",
   "execution_count": 212,
   "metadata": {},
   "outputs": [],
   "source": [
    "kiosk_data = pd.read_csv(os.path.join(os.environ['MOHAMMAD_SHARED_PATH'], \"Google Trip Data\",\"Kiosks_Data.csv\"))"
   ]
  },
  {
   "cell_type": "code",
   "execution_count": 6,
   "metadata": {},
   "outputs": [],
   "source": [
    "kiosk_data_filterd = kiosk_data[['Kiosk Name', \"Latitude\", \"Longitude\", 'Address']].copy()\n",
    "kiosk_data_filterd['Coordinates'] = kiosk_data_filterd['Latitude'].astype(str) + ',' + kiosk_data_filterd['Longitude'].astype(str)\n",
    "kiosk_data_filterd = kiosk_data_filterd[kiosk_data_filterd['Coordinates']!=\"0.0,0.0\"]\n",
    "kiosk_data_filterd.sort_values(by='Coordinates', inplace=True)"
   ]
  },
  {
   "cell_type": "code",
   "execution_count": 7,
   "metadata": {},
   "outputs": [
    {
     "data": {
      "text/html": [
       "<div>\n",
       "<style scoped>\n",
       "    .dataframe tbody tr th:only-of-type {\n",
       "        vertical-align: middle;\n",
       "    }\n",
       "\n",
       "    .dataframe tbody tr th {\n",
       "        vertical-align: top;\n",
       "    }\n",
       "\n",
       "    .dataframe thead th {\n",
       "        text-align: right;\n",
       "    }\n",
       "</style>\n",
       "<table border=\"1\" class=\"dataframe\">\n",
       "  <thead>\n",
       "    <tr style=\"text-align: right;\">\n",
       "      <th></th>\n",
       "      <th>Kiosk Name</th>\n",
       "      <th>Latitude</th>\n",
       "      <th>Longitude</th>\n",
       "      <th>Address</th>\n",
       "      <th>Coordinates</th>\n",
       "    </tr>\n",
       "  </thead>\n",
       "  <tbody>\n",
       "    <tr>\n",
       "      <th>93</th>\n",
       "      <td>Heartland Helpdesk</td>\n",
       "      <td>39.97233</td>\n",
       "      <td>-75.14500</td>\n",
       "      <td>1144 N 11th St</td>\n",
       "      <td>39.97233,-75.145</td>\n",
       "    </tr>\n",
       "    <tr>\n",
       "      <th>99</th>\n",
       "      <td>Mahoney State Park</td>\n",
       "      <td>41.03038</td>\n",
       "      <td>-96.31184</td>\n",
       "      <td>Mahoney State Park</td>\n",
       "      <td>41.03038,-96.31184</td>\n",
       "    </tr>\n",
       "    <tr>\n",
       "      <th>120</th>\n",
       "      <td>Walnut Creek Recreation Area (Papillion)</td>\n",
       "      <td>41.13997</td>\n",
       "      <td>-96.06433</td>\n",
       "      <td>11601 S 96th St</td>\n",
       "      <td>41.13997,-96.06433</td>\n",
       "    </tr>\n",
       "    <tr>\n",
       "      <th>46</th>\n",
       "      <td>36th &amp; Raynor Parkway (Bellevue)</td>\n",
       "      <td>41.14896</td>\n",
       "      <td>-95.96814</td>\n",
       "      <td>W Papio Trail</td>\n",
       "      <td>41.14896,-95.96814</td>\n",
       "    </tr>\n",
       "    <tr>\n",
       "      <th>110</th>\n",
       "      <td>Prairie Queen Recreation Area (Papillion)</td>\n",
       "      <td>41.15487</td>\n",
       "      <td>-96.11240</td>\n",
       "      <td>Lincoln Rd</td>\n",
       "      <td>41.15487,-96.1124</td>\n",
       "    </tr>\n",
       "    <tr>\n",
       "      <th>...</th>\n",
       "      <td>...</td>\n",
       "      <td>...</td>\n",
       "      <td>...</td>\n",
       "      <td>...</td>\n",
       "      <td>...</td>\n",
       "    </tr>\n",
       "    <tr>\n",
       "      <th>37</th>\n",
       "      <td>24th &amp; Wirt St</td>\n",
       "      <td>41.28661</td>\n",
       "      <td>-95.94713</td>\n",
       "      <td>3014 N 24th Street</td>\n",
       "      <td>41.28661,-95.94713</td>\n",
       "    </tr>\n",
       "    <tr>\n",
       "      <th>104</th>\n",
       "      <td>NOTC 31st Ave &amp; Taylor</td>\n",
       "      <td>41.29800</td>\n",
       "      <td>-95.95830</td>\n",
       "      <td>4308 N 31st Ave</td>\n",
       "      <td>41.298,-95.9583</td>\n",
       "    </tr>\n",
       "    <tr>\n",
       "      <th>100</th>\n",
       "      <td>MCC Fort Bookstore N 32nd St</td>\n",
       "      <td>41.30424</td>\n",
       "      <td>-95.95923</td>\n",
       "      <td>N 32nd St</td>\n",
       "      <td>41.30424,-95.95923</td>\n",
       "    </tr>\n",
       "    <tr>\n",
       "      <th>101</th>\n",
       "      <td>MCC North 30th St</td>\n",
       "      <td>41.30981</td>\n",
       "      <td>-95.95684</td>\n",
       "      <td>N 30th St</td>\n",
       "      <td>41.30981,-95.95684</td>\n",
       "    </tr>\n",
       "    <tr>\n",
       "      <th>103</th>\n",
       "      <td>Miller Park</td>\n",
       "      <td>41.31615</td>\n",
       "      <td>-95.95626</td>\n",
       "      <td>30th &amp; Curtis Ave</td>\n",
       "      <td>41.31615,-95.95626</td>\n",
       "    </tr>\n",
       "  </tbody>\n",
       "</table>\n",
       "<p>118 rows × 5 columns</p>\n",
       "</div>"
      ],
      "text/plain": [
       "                                    Kiosk Name  Latitude  Longitude  \\\n",
       "93                          Heartland Helpdesk  39.97233  -75.14500   \n",
       "99                          Mahoney State Park  41.03038  -96.31184   \n",
       "120   Walnut Creek Recreation Area (Papillion)  41.13997  -96.06433   \n",
       "46            36th & Raynor Parkway (Bellevue)  41.14896  -95.96814   \n",
       "110  Prairie Queen Recreation Area (Papillion)  41.15487  -96.11240   \n",
       "..                                         ...       ...        ...   \n",
       "37                              24th & Wirt St  41.28661  -95.94713   \n",
       "104                     NOTC 31st Ave & Taylor  41.29800  -95.95830   \n",
       "100               MCC Fort Bookstore N 32nd St  41.30424  -95.95923   \n",
       "101                          MCC North 30th St  41.30981  -95.95684   \n",
       "103                                Miller Park  41.31615  -95.95626   \n",
       "\n",
       "                Address         Coordinates  \n",
       "93       1144 N 11th St    39.97233,-75.145  \n",
       "99   Mahoney State Park  41.03038,-96.31184  \n",
       "120     11601 S 96th St  41.13997,-96.06433  \n",
       "46        W Papio Trail  41.14896,-95.96814  \n",
       "110          Lincoln Rd   41.15487,-96.1124  \n",
       "..                  ...                 ...  \n",
       "37   3014 N 24th Street  41.28661,-95.94713  \n",
       "104     4308 N 31st Ave     41.298,-95.9583  \n",
       "100           N 32nd St  41.30424,-95.95923  \n",
       "101           N 30th St  41.30981,-95.95684  \n",
       "103   30th & Curtis Ave  41.31615,-95.95626  \n",
       "\n",
       "[118 rows x 5 columns]"
      ]
     },
     "execution_count": 7,
     "metadata": {},
     "output_type": "execute_result"
    }
   ],
   "source": [
    "kiosk_data_filterd"
   ]
  },
  {
   "cell_type": "code",
   "execution_count": 60,
   "metadata": {},
   "outputs": [],
   "source": [
    "coordinates = kiosk_data_filterd['Coordinates'].values  \n",
    "\n",
    "coordinates"
   ]
  },
  {
   "cell_type": "markdown",
   "metadata": {},
   "source": [
    "result is in shape of \n",
    "\n",
    "origin x destination"
   ]
  },
  {
   "cell_type": "code",
   "execution_count": 167,
   "metadata": {},
   "outputs": [],
   "source": [
    "res_dict = {}\n",
    "\n",
    "count = 0\n",
    "if run:\n",
    "    for i in range(0, len(coordinates)-1, 10):\n",
    "        for j in range(0, len(coordinates)-1, 10):\n",
    "            org_start = i\n",
    "            org_end = min(i+10, len(coordinates)) ### its logical to subtract 1 from len here but, when slicing, the right is exclusive\n",
    "            dest_start = j\n",
    "            dest_end = min(j+10, len(coordinates))\n",
    "\n",
    "            if (org_end -org_start == 0) or (dest_end - dest_start == 0):\n",
    "                print(\"No more data to compute. Exiting... this loop\")\n",
    "            else:\n",
    "                origins = coordinates[org_start:org_end]\n",
    "                destinations = coordinates[dest_start:dest_end]\n",
    "\n",
    "\n",
    "\n",
    "                res = gmaps.distance_matrix(origins, destinations, mode='bicycling', departure_time=time_compute)\n",
    "\n",
    "                \n",
    "                ### result is in shape of org x dest\n",
    "                ### Result is in res['rows'][org]['elements'][dest]\n",
    "                for org in range(len(origins)):\n",
    "\n",
    "                    for dest in range(len(destinations)):\n",
    "\n",
    "                        if res['rows'][org]['elements'][dest]['status'] == 'OK':\n",
    "                            res_dict[count] = {\n",
    "                                \"Destination_Coordinates\": destinations[dest],\n",
    "                                \"Origin_Coordinates\": origins[org],\n",
    "                                \"Origin_Address\": res['origin_addresses'][org],\n",
    "                                \"Destination_Address\": res['destination_addresses'][dest],\n",
    "                                \"Duration (In Seconds)\": res['rows'][org]['elements'][dest]['duration']['value'],\n",
    "                                \"Distance (In Meters)\": res['rows'][org]['elements'][dest]['distance']['value']\n",
    "                            }\n",
    "                        else:\n",
    "                            res_dict[count] = {\n",
    "                                \"Destination_Coordinates\": destinations[dest],\n",
    "                                \"Origin_Coordinates\": origins[org],\n",
    "                                \"Origin_Address\": res['origin_addresses'][org],\n",
    "                                \"Destination_Address\": res['destination_addresses'][dest],\n",
    "                                \"Duration (In Seconds)\": np.nan,\n",
    "                                \"Distance (In Meters)\": np.nan\n",
    "                            }\n",
    "                        count += 1\n",
    "\n",
    "\n",
    "\n",
    "\n",
    "                "
   ]
  },
  {
   "cell_type": "code",
   "execution_count": 213,
   "metadata": {},
   "outputs": [],
   "source": [
    "# Convert resulting dictionary to a dataframe\n",
    "df_res = pd.DataFrame(res_dict).T"
   ]
  },
  {
   "cell_type": "code",
   "execution_count": 214,
   "metadata": {},
   "outputs": [],
   "source": [
    "df_res[column_name_for_time_at_this_time] = df_res[f'Duration (In Seconds)']/60"
   ]
  },
  {
   "cell_type": "code",
   "execution_count": 215,
   "metadata": {},
   "outputs": [],
   "source": [
    "df_res.to_parquet(os.path.join(os.environ['OUTPUT_PATH'], output_file_name))"
   ]
  },
  {
   "cell_type": "code",
   "execution_count": null,
   "metadata": {},
   "outputs": [],
   "source": []
  }
 ],
 "metadata": {
  "kernelspec": {
   "display_name": ".venv",
   "language": "python",
   "name": "python3"
  },
  "language_info": {
   "codemirror_mode": {
    "name": "ipython",
    "version": 3
   },
   "file_extension": ".py",
   "mimetype": "text/x-python",
   "name": "python",
   "nbconvert_exporter": "python",
   "pygments_lexer": "ipython3",
   "version": "3.9.6"
  }
 },
 "nbformat": 4,
 "nbformat_minor": 2
}
