{
 "cells": [
  {
   "cell_type": "code",
   "execution_count": 1,
   "metadata": {},
   "outputs": [
    {
     "data": {
      "text/plain": [
       "True"
      ]
     },
     "execution_count": 1,
     "metadata": {},
     "output_type": "execute_result"
    }
   ],
   "source": [
    "\n",
    "import os\n",
    "import dotenv\n",
    "from datetime import datetime\n",
    "import pandas as pd\n",
    "import numpy as np\n",
    "import time\n",
    "\n",
    "dotenv.load_dotenv()"
   ]
  },
  {
   "cell_type": "markdown",
   "metadata": {},
   "source": [
    "#### These functions were used to create the file_name and the file_path in google_travel_time.ipynb"
   ]
  },
  {
   "cell_type": "code",
   "execution_count": 15,
   "metadata": {},
   "outputs": [],
   "source": [
    "hours = [\n",
    "    datetime(2024, 2, 26, 7, 30, 0),\n",
    "    datetime(2024, 2, 26, 12, 00, 0),\n",
    "    datetime(2024, 2, 26, 16, 00, 0),\n",
    "    datetime(2024, 2, 26, 20, 15, 0)\n",
    "\n",
    "]\n",
    "\n",
    "def get_variable_name(curr_hour: datetime, mode: str) -> str:\n",
    "\n",
    "    hour = f\"{curr_hour.hour:02d}\"\n",
    "    minute = f\"{curr_hour.minute:02d}\"\n",
    "\n",
    "    column_name_for_time_at_this_time = f\"T{hour}{minute}_{mode}_(In Minutes)\"\n",
    "    output_file_name = f\"T{hour}{minute}_{mode}.parquet\"\n",
    "\n",
    "    return column_name_for_time_at_this_time, output_file_name\n"
   ]
  },
  {
   "cell_type": "code",
   "execution_count": 17,
   "metadata": {},
   "outputs": [],
   "source": [
    "hours = [\n",
    "    datetime(2024, 2, 26, 7, 30, 0),\n",
    "    datetime(2024, 2, 26, 12, 00, 0),\n",
    "    datetime(2024, 2, 26, 16, 00, 0),\n",
    "    datetime(2024, 2, 26, 20, 15, 0)\n",
    "]\n",
    "\n",
    "modes = [\"transit\", \"bicycling\"]\n",
    "\n",
    "time_compute = hours[0]"
   ]
  },
  {
   "cell_type": "markdown",
   "metadata": {},
   "source": [
    "#### Get the common columns from one of the parquet files\n",
    "\n",
    "- Also extract the travel distance from one of the `transit` file and `bicycle` file"
   ]
  },
  {
   "cell_type": "code",
   "execution_count": 139,
   "metadata": {},
   "outputs": [],
   "source": [
    "## Extract these column from one of the bicycle dataframes\n",
    "\n",
    "def extract_common_columns(mode: str, hours) -> pd.DataFrame:\n",
    "    col_name, output_file_name = get_variable_name(hours[0], mode)\n",
    "    cols_common_bike = ['Destination_Coordinates', 'Origin_Coordinates', 'Distance (In Meters)']\n",
    "    df = pd.read_parquet(os.path.join(os.environ['OUTPUT_PATH'], \"google_hourly_data\", output_file_name))\n",
    "\n",
    "    return df[cols_common_bike].copy()"
   ]
  },
  {
   "cell_type": "markdown",
   "metadata": {},
   "source": [
    "Loop all `mode` files and combine them into one file"
   ]
  },
  {
   "cell_type": "code",
   "execution_count": 140,
   "metadata": {},
   "outputs": [],
   "source": [
    "def combine_all_hours(mode:str, hours: list) -> pd.DataFrame:\n",
    "    df_combined = extract_common_columns(mode, hours)\n",
    "\n",
    "    for i in hours:\n",
    "        col_name, output_file_name = get_variable_name(i, mode)\n",
    "        try:\n",
    "            df = pd.read_parquet(os.path.join(os.environ['OUTPUT_PATH'], \"google_hourly_data\", output_file_name))\n",
    "            df_curr = df[['Destination_Coordinates', 'Origin_Coordinates']+ [col_name]].copy()\n",
    "            df_combined = df_combined.merge(df_curr, on=['Destination_Coordinates', 'Origin_Coordinates'], how='left')\n",
    "        except:\n",
    "            print(f\"File {output_file_name} does not exist\")\n",
    "    \n",
    "    return df_combined.drop_duplicates()\n"
   ]
  },
  {
   "cell_type": "code",
   "execution_count": 141,
   "metadata": {},
   "outputs": [
    {
     "name": "stdout",
     "output_type": "stream",
     "text": [
      "File T2015_transit.parquet does not exist\n"
     ]
    }
   ],
   "source": [
    "df_transit = combine_all_hours(\"transit\", hours)\n",
    "df_transit.rename(columns={\"Distance (In Meters)\": f\"Distance (In Meters) (transit)\"}, inplace=True)\n",
    "df_bicycling = combine_all_hours(\"bicycling\", hours)\n",
    "df_bicycling.rename(columns={\"Distance (In Meters)\": f\"Distance (In Meters) (bicycling)\"}, inplace=True)"
   ]
  },
  {
   "cell_type": "code",
   "execution_count": 142,
   "metadata": {},
   "outputs": [
    {
     "data": {
      "text/plain": [
       "((13225, 6), (13225, 7))"
      ]
     },
     "execution_count": 142,
     "metadata": {},
     "output_type": "execute_result"
    }
   ],
   "source": [
    "df_transit.shape, df_bicycling.shape"
   ]
  },
  {
   "cell_type": "code",
   "execution_count": 143,
   "metadata": {},
   "outputs": [],
   "source": [
    "df_combined_transit_bicycling = df_transit.merge(df_bicycling, on=['Destination_Coordinates', 'Origin_Coordinates'], how='right')"
   ]
  },
  {
   "cell_type": "code",
   "execution_count": 145,
   "metadata": {},
   "outputs": [],
   "source": [
    "df_combined_transit_bicycling.to_parquet(os.path.join(os.environ['OUTPUT_PATH'], \"combined_google_transit_bicycling.parquet\"))"
   ]
  },
  {
   "cell_type": "code",
   "execution_count": null,
   "metadata": {},
   "outputs": [],
   "source": []
  },
  {
   "cell_type": "code",
   "execution_count": null,
   "metadata": {},
   "outputs": [],
   "source": []
  }
 ],
 "metadata": {
  "kernelspec": {
   "display_name": ".venv",
   "language": "python",
   "name": "python3"
  },
  "language_info": {
   "codemirror_mode": {
    "name": "ipython",
    "version": 3
   },
   "file_extension": ".py",
   "mimetype": "text/x-python",
   "name": "python",
   "nbconvert_exporter": "python",
   "pygments_lexer": "ipython3",
   "version": "3.9.6"
  }
 },
 "nbformat": 4,
 "nbformat_minor": 2
}
