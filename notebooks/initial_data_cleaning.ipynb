{
 "cells": [
  {
   "cell_type": "markdown",
   "metadata": {},
   "source": [
    "## Initial Data Cleaning\n",
    "\n",
    "- Fix convert the datetime column to datetime type\n",
    "- Add a column for date of week of checkout\n",
    "- Add a column for the different bins, we defined for the checkout time\n",
    "  -  0: 00:00AM - 5:00AM\n",
    "  -  1: 5AM-10AM\n",
    "  -  2: 10AM-2PM\n",
    "  -  3: 2PM-6PM\n",
    "  -  4: 6PM-10:30PM\n",
    "  -  5: 10:30PM-00:00AM\n"
   ]
  },
  {
   "cell_type": "code",
   "execution_count": 4,
   "metadata": {},
   "outputs": [
    {
     "data": {
      "text/plain": [
       "True"
      ]
     },
     "execution_count": 4,
     "metadata": {},
     "output_type": "execute_result"
    }
   ],
   "source": [
    "import datetime\n",
    "import os\n",
    "import dotenv\n",
    "import pandas as pd\n",
    "import numpy as np\n",
    "\n",
    "pd.set_option('display.max_columns', 500)\n",
    "\n",
    "dotenv.load_dotenv()"
   ]
  },
  {
   "cell_type": "code",
   "execution_count": 5,
   "metadata": {},
   "outputs": [],
   "source": [
    "bike_trips = os.path.join(os.environ['MOHAMMAD_SHARED_PATH'], 'Backup', 'Bike_Trips.xlsx')"
   ]
  },
  {
   "cell_type": "code",
   "execution_count": 6,
   "metadata": {},
   "outputs": [],
   "source": [
    "df_bike_share = pd.read_excel(bike_trips, sheet_name=\"Data_Reformatted\")   \n",
    "#### Remove Duration minute == 0\n",
    "df_bike_share = df_bike_share[df_bike_share['Duration (Minutes)'] != 0].copy()\n",
    "\n",
    "df_bike_share = df_bike_share.fillna(0)"
   ]
  },
  {
   "cell_type": "markdown",
   "metadata": {},
   "source": [
    "#### 2 of the rows in the df where misaligned"
   ]
  },
  {
   "cell_type": "code",
   "execution_count": 7,
   "metadata": {},
   "outputs": [],
   "source": [
    "# Filter out only datetime.time objects\n",
    "time_mask_ok = df_bike_share['Checkout Time'].apply(lambda x: isinstance(x, datetime.time))\n",
    "time_df_ok = df_bike_share[time_mask_ok].copy()\n",
    "\n",
    "time_mask_notOk = df_bike_share['Checkout Time'].apply(lambda x: not isinstance(x, datetime.time))\n",
    "time_df_notOk = df_bike_share[time_mask_notOk].copy()\n",
    "time_df_notOk = time_df_notOk.shift(axis=1)\n",
    "\n",
    "df_bike_share = pd.concat([time_df_ok, time_df_notOk], axis=0)\n",
    "\n",
    "#there is no some return date time\n",
    "mask = df_bike_share['Return Time'].apply(lambda x: isinstance(x, datetime.time))\n",
    "df_bike_share = df_bike_share[mask].copy()"
   ]
  },
  {
   "cell_type": "markdown",
   "metadata": {},
   "source": [
    "#### Convert the date and time column to a single datetime column of \n",
    "`type(object), type(object)` -> `type(datetime)`"
   ]
  },
  {
   "cell_type": "code",
   "execution_count": 8,
   "metadata": {},
   "outputs": [],
   "source": [
    "# Convert 'Checkout Date' to datetime\n",
    "df_bike_share['Checkout Date'] = pd.to_datetime(df_bike_share['Checkout Date'])\n",
    "df_bike_share['Return Date'] = pd.to_datetime(df_bike_share['Return Date']).copy()\n",
    "\n",
    "# Extract time component from 'Checkout Time'\n",
    "time_component_checkout = df_bike_share['Checkout Time'].apply(lambda x: x.strftime('%H:%M:%S'))\n",
    "\n",
    "time_component_return = df_bike_share['Return Time'].apply(lambda x: x.strftime('%H:%M:%S'))\n",
    "\n",
    "# Combine date from 'Checkout Date' and time from 'Checkout Time'\n",
    "df_bike_share['Checkout DateTime'] = df_bike_share['Checkout Date'] + pd.to_timedelta(time_component_checkout)\n",
    "df_bike_share['Return DateTime'] = df_bike_share['Return Date'] + pd.to_timedelta(time_component_return)\n",
    "\n",
    "df_bike_share = df_bike_share.drop(columns=['Checkout Date', 'Checkout Time', 'Return Date', 'Return Time'])\n",
    "\n",
    "### Add day of the week\n",
    "df_bike_share['Day_of_week'] = df_bike_share['Checkout DateTime'].dt.day_of_week"
   ]
  },
  {
   "cell_type": "markdown",
   "metadata": {},
   "source": [
    "##### Breakdown the checkout time into bins"
   ]
  },
  {
   "cell_type": "code",
   "execution_count": 9,
   "metadata": {},
   "outputs": [],
   "source": [
    "# 0: 00:00AM - 5:00AM\n",
    "# 1: 5AM-10AM\n",
    "# 2: 10AM-2PM\n",
    "# 3: 2PM-6PM\n",
    "# 4: 6PM-10:30PM\n",
    "# 5: 10:30PM-00:00AM\n",
    "\n",
    "\n",
    "\n",
    "# Define the bins and labels for time frames\n",
    "bins = [-1, 300, 600, 840, 1080, 1350, 1440]  # Bins covering the entire day in minutes\n",
    "labels = [0, 1, 2, 3, 4, 5]  # Labels for each time frame\n",
    "\n",
    "# Convert 'Checkout DateTime' to minutes since midnight\n",
    "checkout_minutes = df_bike_share['Checkout DateTime'].dt.hour * 60 + df_bike_share['Checkout DateTime'].dt.minute\n",
    "\n",
    "# Cut the 'Checkout DateTime' column into specified time frames\n",
    "df_bike_share['checkout_time_bin'] = pd.cut(checkout_minutes, bins=bins, labels=labels)\n",
    "df_bike_share.sort_values(by=['checkout_time_bin'], inplace=True)\n"
   ]
  },
  {
   "cell_type": "code",
   "execution_count": 10,
   "metadata": {},
   "outputs": [],
   "source": [
    "needed_columns = ['Membership Type', 'Bike', 'Checkout DateTime', 'Checkout Kiosk', 'Return DateTime', 'Return Kiosk', 'Duration (Minutes)', 'Adjusted Duration (Minutes)', 'Day_of_week', 'checkout_time_bin']\n",
    "\n",
    "df_bike_share['Membership Type'] = df_bike_share['Membership Type'].astype(str)\n",
    "df_bike_share['Bike'] = df_bike_share['Bike'].astype(str)\n",
    "df_bike_share['Checkout Kiosk'] = df_bike_share['Checkout Kiosk'].astype(str)\n",
    "df_bike_share['Return Kiosk'] = df_bike_share['Return Kiosk'].astype(str)\n",
    "df_bike_share['Adjusted Duration (Minutes)'] = df_bike_share['Adjusted Duration (Minutes)'].astype(int)\n",
    "\n",
    "df_bike_share[needed_columns].to_parquet(os.path.join(os.environ['OUTPUT_PATH'], 'Cleaned_Bike_Trips.parquet'))"
   ]
  }
 ],
 "metadata": {
  "kernelspec": {
   "display_name": ".venv",
   "language": "python",
   "name": "python3"
  },
  "language_info": {
   "codemirror_mode": {
    "name": "ipython",
    "version": 3
   },
   "file_extension": ".py",
   "mimetype": "text/x-python",
   "name": "python",
   "nbconvert_exporter": "python",
   "pygments_lexer": "ipython3",
   "version": "3.9.6"
  }
 },
 "nbformat": 4,
 "nbformat_minor": 2
}
